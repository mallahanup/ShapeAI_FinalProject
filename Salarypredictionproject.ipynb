{
 "cells": [
  {
   "cell_type": "markdown",
   "id": "adc17e2c",
   "metadata": {},
   "source": [
    "# <center><font color='purple' face='Times new roman' size=\"10\">Salary Prediction</font></center>"
   ]
  },
  {
   "cell_type": "markdown",
   "id": "c59ec64f",
   "metadata": {},
   "source": [
    "\n",
    "<br><b>Name: Anup R Mallah</b> </br>\n",
    "<br><b>Project of ShapeAI </b></br>\n",
    "<br><b>Title: Salary Prediction </b></br>\n",
    "\n"
   ]
  },
  {
   "cell_type": "markdown",
   "id": "f24b32e0",
   "metadata": {},
   "source": [
    "<b>Problem on Hand: </b> Given a data set which  captures gross salary from July 1, 2013 through June 30, 2014 and includes only those employees who were employed on June 30, 2014 Predict the Salaries for Employees in Baltimore</b>\n",
    "\n",
    "<b>\n",
    "</b>"
   ]
  },
  {
   "cell_type": "code",
   "execution_count": 1,
   "id": "72d7bff0",
   "metadata": {},
   "outputs": [],
   "source": [
    "#Python libraries for Analysis\n",
    "import numpy as np\n",
    "import pandas as pd\n",
    "\n",
    "#Python libraries for visualization\n",
    "import matplotlib.pyplot as plt\n",
    "import seaborn as sns"
   ]
  },
  {
   "cell_type": "code",
   "execution_count": 2,
   "id": "1718d595",
   "metadata": {},
   "outputs": [
    {
     "data": {
      "text/html": [
       "<div>\n",
       "<style scoped>\n",
       "    .dataframe tbody tr th:only-of-type {\n",
       "        vertical-align: middle;\n",
       "    }\n",
       "\n",
       "    .dataframe tbody tr th {\n",
       "        vertical-align: top;\n",
       "    }\n",
       "\n",
       "    .dataframe thead th {\n",
       "        text-align: right;\n",
       "    }\n",
       "</style>\n",
       "<table border=\"1\" class=\"dataframe\">\n",
       "  <thead>\n",
       "    <tr style=\"text-align: right;\">\n",
       "      <th></th>\n",
       "      <th>Name</th>\n",
       "      <th>JobTitle</th>\n",
       "      <th>AgencyID</th>\n",
       "      <th>Agency</th>\n",
       "      <th>HireDate</th>\n",
       "      <th>AnnualSalary</th>\n",
       "      <th>GrossPay</th>\n",
       "    </tr>\n",
       "  </thead>\n",
       "  <tbody>\n",
       "    <tr>\n",
       "      <th>0</th>\n",
       "      <td>Aaron,Keontae E</td>\n",
       "      <td>AIDE BLUE CHIP</td>\n",
       "      <td>W02200</td>\n",
       "      <td>Youth Summer</td>\n",
       "      <td>06/10/2013</td>\n",
       "      <td>$11310.00</td>\n",
       "      <td>$873.63</td>\n",
       "    </tr>\n",
       "    <tr>\n",
       "      <th>1</th>\n",
       "      <td>Aaron,Patricia G</td>\n",
       "      <td>Facilities/Office Services II</td>\n",
       "      <td>A03031</td>\n",
       "      <td>OED-Employment Dev</td>\n",
       "      <td>10/24/1979</td>\n",
       "      <td>$53428.00</td>\n",
       "      <td>$52868.38</td>\n",
       "    </tr>\n",
       "    <tr>\n",
       "      <th>2</th>\n",
       "      <td>Aaron,Petra L</td>\n",
       "      <td>ASSISTANT STATE'S ATTORNEY</td>\n",
       "      <td>A29005</td>\n",
       "      <td>States Attorneys Office</td>\n",
       "      <td>09/25/2006</td>\n",
       "      <td>$68300.00</td>\n",
       "      <td>$67439.19</td>\n",
       "    </tr>\n",
       "    <tr>\n",
       "      <th>3</th>\n",
       "      <td>Abaineh,Yohannes T</td>\n",
       "      <td>EPIDEMIOLOGIST</td>\n",
       "      <td>A65026</td>\n",
       "      <td>HLTH-Health Department</td>\n",
       "      <td>07/23/2009</td>\n",
       "      <td>$62000.00</td>\n",
       "      <td>$58654.74</td>\n",
       "    </tr>\n",
       "    <tr>\n",
       "      <th>4</th>\n",
       "      <td>Abbene,Anthony M</td>\n",
       "      <td>POLICE OFFICER TRAINEE</td>\n",
       "      <td>A99416</td>\n",
       "      <td>Police Department</td>\n",
       "      <td>07/24/2013</td>\n",
       "      <td>$43999.00</td>\n",
       "      <td>$39686.95</td>\n",
       "    </tr>\n",
       "    <tr>\n",
       "      <th>...</th>\n",
       "      <td>...</td>\n",
       "      <td>...</td>\n",
       "      <td>...</td>\n",
       "      <td>...</td>\n",
       "      <td>...</td>\n",
       "      <td>...</td>\n",
       "      <td>...</td>\n",
       "    </tr>\n",
       "    <tr>\n",
       "      <th>18976</th>\n",
       "      <td>Zotamou,Jean Marie D</td>\n",
       "      <td>AIDE BLUE CHIP</td>\n",
       "      <td>W02235</td>\n",
       "      <td>Youth Summer</td>\n",
       "      <td>05/21/2014</td>\n",
       "      <td>$11310.00</td>\n",
       "      <td>NaN</td>\n",
       "    </tr>\n",
       "    <tr>\n",
       "      <th>18977</th>\n",
       "      <td>Zotamou,Pivot D</td>\n",
       "      <td>AIDE BLUE CHIP</td>\n",
       "      <td>W02629</td>\n",
       "      <td>Youth Summer</td>\n",
       "      <td>05/21/2014</td>\n",
       "      <td>$11310.00</td>\n",
       "      <td>NaN</td>\n",
       "    </tr>\n",
       "    <tr>\n",
       "      <th>18978</th>\n",
       "      <td>Zovistoski,Zachary D</td>\n",
       "      <td>POLICE OFFICER TRAINEE</td>\n",
       "      <td>A99416</td>\n",
       "      <td>Police Department</td>\n",
       "      <td>12/17/2013</td>\n",
       "      <td>$43999.00</td>\n",
       "      <td>$21070.03</td>\n",
       "    </tr>\n",
       "    <tr>\n",
       "      <th>18979</th>\n",
       "      <td>Zubyk,Stanislav T</td>\n",
       "      <td>POLICE OFFICER</td>\n",
       "      <td>A99262</td>\n",
       "      <td>Police Department</td>\n",
       "      <td>01/23/2013</td>\n",
       "      <td>$44104.00</td>\n",
       "      <td>$48608.12</td>\n",
       "    </tr>\n",
       "    <tr>\n",
       "      <th>18980</th>\n",
       "      <td>Zukowski,Charles J</td>\n",
       "      <td>Waste Water Tech Supv I Pump</td>\n",
       "      <td>A50206</td>\n",
       "      <td>DPW-Water &amp; Waste Water</td>\n",
       "      <td>10/15/1979</td>\n",
       "      <td>$53568.00</td>\n",
       "      <td>$52164.32</td>\n",
       "    </tr>\n",
       "  </tbody>\n",
       "</table>\n",
       "<p>18981 rows × 7 columns</p>\n",
       "</div>"
      ],
      "text/plain": [
       "                       Name                       JobTitle AgencyID  \\\n",
       "0           Aaron,Keontae E                 AIDE BLUE CHIP   W02200   \n",
       "1          Aaron,Patricia G  Facilities/Office Services II   A03031   \n",
       "2             Aaron,Petra L     ASSISTANT STATE'S ATTORNEY   A29005   \n",
       "3        Abaineh,Yohannes T                 EPIDEMIOLOGIST   A65026   \n",
       "4          Abbene,Anthony M         POLICE OFFICER TRAINEE   A99416   \n",
       "...                     ...                            ...      ...   \n",
       "18976  Zotamou,Jean Marie D                 AIDE BLUE CHIP   W02235   \n",
       "18977       Zotamou,Pivot D                 AIDE BLUE CHIP   W02629   \n",
       "18978  Zovistoski,Zachary D         POLICE OFFICER TRAINEE   A99416   \n",
       "18979     Zubyk,Stanislav T                 POLICE OFFICER   A99262   \n",
       "18980    Zukowski,Charles J   Waste Water Tech Supv I Pump   A50206   \n",
       "\n",
       "                         Agency    HireDate AnnualSalary   GrossPay  \n",
       "0                Youth Summer    06/10/2013    $11310.00    $873.63  \n",
       "1           OED-Employment Dev   10/24/1979    $53428.00  $52868.38  \n",
       "2      States Attorneys Office   09/25/2006    $68300.00  $67439.19  \n",
       "3       HLTH-Health Department   07/23/2009    $62000.00  $58654.74  \n",
       "4            Police Department   07/24/2013    $43999.00  $39686.95  \n",
       "...                         ...         ...          ...        ...  \n",
       "18976            Youth Summer    05/21/2014    $11310.00        NaN  \n",
       "18977             Youth Summer   05/21/2014    $11310.00        NaN  \n",
       "18978        Police Department   12/17/2013    $43999.00  $21070.03  \n",
       "18979        Police Department   01/23/2013    $44104.00  $48608.12  \n",
       "18980  DPW-Water & Waste Water   10/15/1979    $53568.00  $52164.32  \n",
       "\n",
       "[18981 rows x 7 columns]"
      ]
     },
     "execution_count": 2,
     "metadata": {},
     "output_type": "execute_result"
    }
   ],
   "source": [
    "#Importing Dataset\n",
    "salary_org = pd.read_csv(\"Dataset.csv\")\n",
    "\n",
    "#Printing the dataset\n",
    "salary_org"
   ]
  },
  {
   "cell_type": "code",
   "execution_count": 3,
   "id": "0ab6902a",
   "metadata": {},
   "outputs": [
    {
     "name": "stdout",
     "output_type": "stream",
     "text": [
      "<class 'pandas.core.frame.DataFrame'>\n",
      "RangeIndex: 18981 entries, 0 to 18980\n",
      "Data columns (total 7 columns):\n",
      " #   Column        Non-Null Count  Dtype \n",
      "---  ------        --------------  ----- \n",
      " 0    Name         18981 non-null  object\n",
      " 1   JobTitle      18981 non-null  object\n",
      " 2   AgencyID      18981 non-null  object\n",
      " 3   Agency        18981 non-null  object\n",
      " 4   HireDate      18911 non-null  object\n",
      " 5   AnnualSalary  18981 non-null  object\n",
      " 6   GrossPay      15758 non-null  object\n",
      "dtypes: object(7)\n",
      "memory usage: 1.0+ MB\n"
     ]
    }
   ],
   "source": [
    "#For getting normal information about the data\n",
    "salary_org.info()"
   ]
  },
  {
   "cell_type": "code",
   "execution_count": 4,
   "id": "c9109bd2",
   "metadata": {},
   "outputs": [],
   "source": [
    "#Creating a copy of dataset\n",
    "salary_cpy= salary_org.copy()"
   ]
  },
  {
   "cell_type": "code",
   "execution_count": 5,
   "id": "a3ebb66e",
   "metadata": {},
   "outputs": [
    {
     "data": {
      "text/plain": [
       "Index([' Name', 'JobTitle', 'AgencyID', 'Agency', 'HireDate', 'AnnualSalary',\n",
       "       'GrossPay'],\n",
       "      dtype='object')"
      ]
     },
     "execution_count": 5,
     "metadata": {},
     "output_type": "execute_result"
    }
   ],
   "source": [
    "#To check whether the copy is same or not \n",
    "salary_cpy.columns"
   ]
  },
  {
   "cell_type": "markdown",
   "id": "19196d70",
   "metadata": {},
   "source": [
    "<b><font size= \"5\" color=\"Dark Blue\">Data cleaning</b>"
   ]
  },
  {
   "cell_type": "markdown",
   "id": "9f092a22",
   "metadata": {},
   "source": [
    "From the above data we get to know that there are null values in some columns\n"
   ]
  },
  {
   "cell_type": "code",
   "execution_count": 6,
   "id": "c0631788",
   "metadata": {},
   "outputs": [
    {
     "data": {
      "text/html": [
       "<div>\n",
       "<style scoped>\n",
       "    .dataframe tbody tr th:only-of-type {\n",
       "        vertical-align: middle;\n",
       "    }\n",
       "\n",
       "    .dataframe tbody tr th {\n",
       "        vertical-align: top;\n",
       "    }\n",
       "\n",
       "    .dataframe thead th {\n",
       "        text-align: right;\n",
       "    }\n",
       "</style>\n",
       "<table border=\"1\" class=\"dataframe\">\n",
       "  <thead>\n",
       "    <tr style=\"text-align: right;\">\n",
       "      <th></th>\n",
       "      <th>Name</th>\n",
       "      <th>JobTitle</th>\n",
       "      <th>AgencyID</th>\n",
       "      <th>Agency</th>\n",
       "      <th>HireDate</th>\n",
       "      <th>AnnualSalary</th>\n",
       "      <th>GrossPay</th>\n",
       "    </tr>\n",
       "  </thead>\n",
       "  <tbody>\n",
       "    <tr>\n",
       "      <th>0</th>\n",
       "      <td>False</td>\n",
       "      <td>False</td>\n",
       "      <td>False</td>\n",
       "      <td>False</td>\n",
       "      <td>False</td>\n",
       "      <td>False</td>\n",
       "      <td>False</td>\n",
       "    </tr>\n",
       "    <tr>\n",
       "      <th>1</th>\n",
       "      <td>False</td>\n",
       "      <td>False</td>\n",
       "      <td>False</td>\n",
       "      <td>False</td>\n",
       "      <td>False</td>\n",
       "      <td>False</td>\n",
       "      <td>False</td>\n",
       "    </tr>\n",
       "    <tr>\n",
       "      <th>2</th>\n",
       "      <td>False</td>\n",
       "      <td>False</td>\n",
       "      <td>False</td>\n",
       "      <td>False</td>\n",
       "      <td>False</td>\n",
       "      <td>False</td>\n",
       "      <td>False</td>\n",
       "    </tr>\n",
       "    <tr>\n",
       "      <th>3</th>\n",
       "      <td>False</td>\n",
       "      <td>False</td>\n",
       "      <td>False</td>\n",
       "      <td>False</td>\n",
       "      <td>False</td>\n",
       "      <td>False</td>\n",
       "      <td>False</td>\n",
       "    </tr>\n",
       "    <tr>\n",
       "      <th>4</th>\n",
       "      <td>False</td>\n",
       "      <td>False</td>\n",
       "      <td>False</td>\n",
       "      <td>False</td>\n",
       "      <td>False</td>\n",
       "      <td>False</td>\n",
       "      <td>False</td>\n",
       "    </tr>\n",
       "    <tr>\n",
       "      <th>...</th>\n",
       "      <td>...</td>\n",
       "      <td>...</td>\n",
       "      <td>...</td>\n",
       "      <td>...</td>\n",
       "      <td>...</td>\n",
       "      <td>...</td>\n",
       "      <td>...</td>\n",
       "    </tr>\n",
       "    <tr>\n",
       "      <th>18976</th>\n",
       "      <td>False</td>\n",
       "      <td>False</td>\n",
       "      <td>False</td>\n",
       "      <td>False</td>\n",
       "      <td>False</td>\n",
       "      <td>False</td>\n",
       "      <td>True</td>\n",
       "    </tr>\n",
       "    <tr>\n",
       "      <th>18977</th>\n",
       "      <td>False</td>\n",
       "      <td>False</td>\n",
       "      <td>False</td>\n",
       "      <td>False</td>\n",
       "      <td>False</td>\n",
       "      <td>False</td>\n",
       "      <td>True</td>\n",
       "    </tr>\n",
       "    <tr>\n",
       "      <th>18978</th>\n",
       "      <td>False</td>\n",
       "      <td>False</td>\n",
       "      <td>False</td>\n",
       "      <td>False</td>\n",
       "      <td>False</td>\n",
       "      <td>False</td>\n",
       "      <td>False</td>\n",
       "    </tr>\n",
       "    <tr>\n",
       "      <th>18979</th>\n",
       "      <td>False</td>\n",
       "      <td>False</td>\n",
       "      <td>False</td>\n",
       "      <td>False</td>\n",
       "      <td>False</td>\n",
       "      <td>False</td>\n",
       "      <td>False</td>\n",
       "    </tr>\n",
       "    <tr>\n",
       "      <th>18980</th>\n",
       "      <td>False</td>\n",
       "      <td>False</td>\n",
       "      <td>False</td>\n",
       "      <td>False</td>\n",
       "      <td>False</td>\n",
       "      <td>False</td>\n",
       "      <td>False</td>\n",
       "    </tr>\n",
       "  </tbody>\n",
       "</table>\n",
       "<p>18981 rows × 7 columns</p>\n",
       "</div>"
      ],
      "text/plain": [
       "        Name  JobTitle  AgencyID  Agency  HireDate  AnnualSalary  GrossPay\n",
       "0      False     False     False   False     False         False     False\n",
       "1      False     False     False   False     False         False     False\n",
       "2      False     False     False   False     False         False     False\n",
       "3      False     False     False   False     False         False     False\n",
       "4      False     False     False   False     False         False     False\n",
       "...      ...       ...       ...     ...       ...           ...       ...\n",
       "18976  False     False     False   False     False         False      True\n",
       "18977  False     False     False   False     False         False      True\n",
       "18978  False     False     False   False     False         False     False\n",
       "18979  False     False     False   False     False         False     False\n",
       "18980  False     False     False   False     False         False     False\n",
       "\n",
       "[18981 rows x 7 columns]"
      ]
     },
     "execution_count": 6,
     "metadata": {},
     "output_type": "execute_result"
    }
   ],
   "source": [
    "#To check Null values in a dataset\n",
    "salary_cpy.isnull()"
   ]
  },
  {
   "cell_type": "code",
   "execution_count": 7,
   "id": "63b00dcf",
   "metadata": {},
   "outputs": [
    {
     "data": {
      "text/plain": [
       " Name              0\n",
       "JobTitle           0\n",
       "AgencyID           0\n",
       "Agency             0\n",
       "HireDate          70\n",
       "AnnualSalary       0\n",
       "GrossPay        3223\n",
       "dtype: int64"
      ]
     },
     "execution_count": 7,
     "metadata": {},
     "output_type": "execute_result"
    }
   ],
   "source": [
    "#To check how many null values are present\n",
    "salary_cpy.isnull().sum()"
   ]
  },
  {
   "cell_type": "code",
   "execution_count": 8,
   "id": "2986275e",
   "metadata": {},
   "outputs": [
    {
     "data": {
      "text/plain": [
       " Name           0\n",
       "JobTitle        0\n",
       "AgencyID        0\n",
       "Agency          0\n",
       "HireDate        0\n",
       "AnnualSalary    0\n",
       "GrossPay        0\n",
       "dtype: int64"
      ]
     },
     "execution_count": 8,
     "metadata": {},
     "output_type": "execute_result"
    }
   ],
   "source": [
    "#To remove null values from Hiredate\n",
    "salary_cpy = salary_cpy.dropna(subset=[\"HireDate\"])\n",
    "\n",
    "#To remove null values from AnnualSalary\n",
    "salary_cpy= salary_cpy.dropna(subset=[\"GrossPay\"])\n",
    "\n",
    "salary_cpy.isnull().sum()"
   ]
  },
  {
   "cell_type": "markdown",
   "id": "8d0ea987",
   "metadata": {},
   "source": [
    "<b><Font size= \"4\" color= \"Blue\"> Value Counts</b>"
   ]
  },
  {
   "cell_type": "code",
   "execution_count": 9,
   "id": "5da6cd44",
   "metadata": {},
   "outputs": [
    {
     "data": {
      "text/plain": [
       "C90786    276\n",
       "P04001    203\n",
       "P04002    168\n",
       "A99416    158\n",
       "A50209    125\n",
       "         ... \n",
       "W02606      1\n",
       "W02679      1\n",
       "W02440      1\n",
       "A75041      1\n",
       "A65021      1\n",
       "Name: AgencyID, Length: 1096, dtype: int64"
      ]
     },
     "execution_count": 9,
     "metadata": {},
     "output_type": "execute_result"
    }
   ],
   "source": [
    "#Value counts for AgencyID\n",
    "salary_cpy.AgencyID.value_counts()"
   ]
  },
  {
   "cell_type": "code",
   "execution_count": 10,
   "id": "8d737ac3",
   "metadata": {},
   "outputs": [
    {
     "data": {
      "text/plain": [
       "Police Department           3133\n",
       "Youth Summer                1688\n",
       "Fire Department             1576\n",
       "DPW-Water & Waste Water     1491\n",
       "HLTH-Health Department       825\n",
       "                            ... \n",
       "Legislative Reference          5\n",
       "Council Services               5\n",
       "M-R Cable & Comm               4\n",
       "Special City Services          4\n",
       "HLTH-Health Dept Locatio       1\n",
       "Name: Agency, Length: 65, dtype: int64"
      ]
     },
     "execution_count": 10,
     "metadata": {},
     "output_type": "execute_result"
    }
   ],
   "source": [
    "#Value counts for Agency\n",
    "salary_cpy.Agency.value_counts()"
   ]
  },
  {
   "cell_type": "code",
   "execution_count": 11,
   "id": "cdaee086",
   "metadata": {},
   "outputs": [
    {
     "data": {
      "text/plain": [
       "06/10/2013    696\n",
       "06/12/2012    375\n",
       "06/07/2011    232\n",
       "06/13/2013    134\n",
       "06/03/2010    120\n",
       "             ... \n",
       "04/14/1969      1\n",
       "09/29/2001      1\n",
       "06/14/1977      1\n",
       "07/08/1985      1\n",
       "01/18/1994      1\n",
       "Name: HireDate, Length: 4710, dtype: int64"
      ]
     },
     "execution_count": 11,
     "metadata": {},
     "output_type": "execute_result"
    }
   ],
   "source": [
    "#Value counts for HireDate\n",
    "salary_cpy.HireDate.value_counts()"
   ]
  },
  {
   "cell_type": "code",
   "execution_count": 12,
   "id": "7e7b457f",
   "metadata": {
    "scrolled": true
   },
   "outputs": [
    {
     "data": {
      "text/plain": [
       "AIDE BLUE CHIP                   1868\n",
       "POLICE OFFICER                   1866\n",
       "LABORER (Hourly)                  597\n",
       "EMT Firefighter Suppression       358\n",
       "CROSSING GUARD                    337\n",
       "                                 ... \n",
       "ENVIRONMENTAL POLICY ANALYST        1\n",
       "CHIEF CONTRACT OFFICER              1\n",
       "TRAINING OFFICER II                 1\n",
       "OFFICE MANAGER SAO                  1\n",
       "VOLUNTEER SERVICE COORDINATOR       1\n",
       "Name: JobTitle, Length: 1068, dtype: int64"
      ]
     },
     "execution_count": 12,
     "metadata": {},
     "output_type": "execute_result"
    }
   ],
   "source": [
    "#Value counts for JobTitle\n",
    "salary_cpy.JobTitle.value_counts()"
   ]
  },
  {
   "cell_type": "code",
   "execution_count": 13,
   "id": "69d70e6f",
   "metadata": {},
   "outputs": [
    {
     "data": {
      "text/plain": [
       "$11310.00    1864\n",
       "$20800.00     247\n",
       "$29245.00     196\n",
       "$44773.00     162\n",
       "$43999.00     162\n",
       "             ... \n",
       "$77300.00       1\n",
       "$34798.00       1\n",
       "$81795.00       1\n",
       "$82300.00       1\n",
       "$43247.13       1\n",
       "Name: AnnualSalary, Length: 1574, dtype: int64"
      ]
     },
     "execution_count": 13,
     "metadata": {},
     "output_type": "execute_result"
    }
   ],
   "source": [
    "#Value counts for AnnualSalary\n",
    "salary_cpy.AnnualSalary.value_counts()"
   ]
  },
  {
   "cell_type": "code",
   "execution_count": 14,
   "id": "c9c577a9",
   "metadata": {},
   "outputs": [],
   "source": [
    "# Removing $ from Annual Salary and converting it into Integer format because we have to visualize it later\n",
    "salary_cpy['AnnualSalary'] = salary_cpy['AnnualSalary'].apply(lambda x : (float)(str(x)[1:]))"
   ]
  },
  {
   "cell_type": "code",
   "execution_count": 15,
   "id": "b74a82cf",
   "metadata": {
    "scrolled": true
   },
   "outputs": [
    {
     "data": {
      "text/plain": [
       "11310.0     1864\n",
       "20800.0      247\n",
       "29245.0      196\n",
       "44773.0      162\n",
       "43999.0      162\n",
       "            ... \n",
       "18928.0        1\n",
       "100436.0       1\n",
       "33072.0        1\n",
       "76113.0        1\n",
       "77800.0        1\n",
       "Name: AnnualSalary, Length: 1574, dtype: int64"
      ]
     },
     "execution_count": 15,
     "metadata": {},
     "output_type": "execute_result"
    }
   ],
   "source": [
    "salary_cpy.AnnualSalary.value_counts()"
   ]
  },
  {
   "cell_type": "code",
   "execution_count": 16,
   "id": "22afe41c",
   "metadata": {},
   "outputs": [
    {
     "data": {
      "text/plain": [
       "count     15688.000000\n",
       "mean      45261.957569\n",
       "std       23923.291351\n",
       "min         900.000000\n",
       "25%       29245.000000\n",
       "50%       43760.000000\n",
       "75%       63570.000000\n",
       "max      238772.000000\n",
       "Name: AnnualSalary, dtype: float64"
      ]
     },
     "execution_count": 16,
     "metadata": {},
     "output_type": "execute_result"
    }
   ],
   "source": [
    "#To get normal insights from data\n",
    "salary_cpy.AnnualSalary.describe()"
   ]
  },
  {
   "cell_type": "markdown",
   "id": "521862d8",
   "metadata": {},
   "source": [
    "## <font color='Magenta' face='Cursive'>Exploratory Data Analysis and Data Visualization</font>"
   ]
  },
  {
   "cell_type": "code",
   "execution_count": 17,
   "id": "8634894a",
   "metadata": {},
   "outputs": [
    {
     "name": "stderr",
     "output_type": "stream",
     "text": [
      "C:\\Users\\Anup\\anaconda3\\lib\\site-packages\\seaborn\\distributions.py:2557: FutureWarning: `distplot` is a deprecated function and will be removed in a future version. Please adapt your code to use either `displot` (a figure-level function with similar flexibility) or `histplot` (an axes-level function for histograms).\n",
      "  warnings.warn(msg, FutureWarning)\n"
     ]
    },
    {
     "data": {
      "image/png": "[encoded data removed]",
      "text/plain": [
       "<Figure size 432x288 with 1 Axes>"
      ]
     },
     "metadata": {
      "needs_background": "light"
     },
     "output_type": "display_data"
    }
   ],
   "source": [
    "#Distribution plot using Seaborn\n",
    "sns.distplot(salary_cpy.AnnualSalary)\n",
    "plt.title(\"Annual Salary Distribution plot\")\n",
    "plt.show()"
   ]
  },
  {
   "cell_type": "code",
   "execution_count": 18,
   "id": "74302e71",
   "metadata": {},
   "outputs": [
    {
     "data": {
      "image/png": "[encoded data removed]",
      "text/plain": [
       "<Figure size 432x288 with 1 Axes>"
      ]
     },
     "metadata": {
      "needs_background": "light"
     },
     "output_type": "display_data"
    }
   ],
   "source": [
    "salary_cpy.AnnualSalary.plot.box()\n",
    "plt.show()"
   ]
  },
  {
   "cell_type": "code",
   "execution_count": 19,
   "id": "da93eeaf",
   "metadata": {},
   "outputs": [
    {
     "data": {
      "image/png": "[encoded data removed]",
      "text/plain": [
       "<Figure size 720x360 with 1 Axes>"
      ]
     },
     "metadata": {
      "needs_background": "light"
     },
     "output_type": "display_data"
    }
   ],
   "source": [
    "#Top 10 Jobs that based on hirings\n",
    "plt.figure(figsize=(10,5))\n",
    "salary_cpy.groupby(['JobTitle'])[' Name'].count().sort_values(ascending=False).head(10).plot.bar()\n",
    "plt.ylabel('No of people Working')\n",
    "plt.title(\"Top 10 Jobs for which Hiring is Highest\",fontsize=20)\n",
    "plt.show()"
   ]
  },
  {
   "cell_type": "code",
   "execution_count": 20,
   "id": "e2e5f2f3",
   "metadata": {},
   "outputs": [
    {
     "data": {
      "image/png": "[encoded data removed]",
      "text/plain": [
       "<Figure size 720x360 with 1 Axes>"
      ]
     },
     "metadata": {
      "needs_background": "light"
     },
     "output_type": "display_data"
    }
   ],
   "source": [
    "#Top 10 Jobs that fetch highest Salary\n",
    "plt.figure(figsize=(10,5))\n",
    "salary_cpy.groupby(['JobTitle'])['AnnualSalary'].mean().sort_values(ascending=False).head(10).plot.bar()\n",
    "plt.ylabel('Avg Salary')\n",
    "plt.title(\"Top 10 Highest Paying Jobs\",fontsize=20)\n",
    "plt.show()"
   ]
  },
  {
   "cell_type": "code",
   "execution_count": 21,
   "id": "34870733",
   "metadata": {},
   "outputs": [
    {
     "data": {
      "image/png": "[encoded data removed]",
      "text/plain": [
       "<Figure size 720x360 with 1 Axes>"
      ]
     },
     "metadata": {
      "needs_background": "light"
     },
     "output_type": "display_data"
    }
   ],
   "source": [
    "#Top 10 Agencies that has highest number of employees\n",
    "plt.figure(figsize=(10,5))\n",
    "salary_cpy.groupby(['Agency'])[' Name'].count().sort_values(ascending=False).head(10).plot.bar()\n",
    "plt.ylabel('No Of Employees')\n",
    "plt.title(\"Top Agencies with Highest number of Employees\",fontsize=20)\n",
    "plt.show()"
   ]
  },
  {
   "cell_type": "code",
   "execution_count": 22,
   "id": "f5a31785",
   "metadata": {},
   "outputs": [
    {
     "data": {
      "image/png": "[encoded data removed]",
      "text/plain": [
       "<Figure size 720x360 with 1 Axes>"
      ]
     },
     "metadata": {
      "needs_background": "light"
     },
     "output_type": "display_data"
    }
   ],
   "source": [
    "#Top 10 Agencies that has highest number of employees\n",
    "plt.figure(figsize=(10,5))\n",
    "salary_cpy.groupby(['Agency'])['AnnualSalary'].mean().sort_values(ascending=False).head(10).plot.bar()\n",
    "plt.ylabel('Salary')\n",
    "plt.title(\"Top Agencies with Highest Salary\",fontsize=20)\n",
    "plt.show()"
   ]
  },
  {
   "cell_type": "code",
   "execution_count": 23,
   "id": "8ec8c663",
   "metadata": {},
   "outputs": [
    {
     "data": {
      "image/png": "[encoded data removed]",
      "text/plain": [
       "<Figure size 720x360 with 1 Axes>"
      ]
     },
     "metadata": {
      "needs_background": "light"
     },
     "output_type": "display_data"
    }
   ],
   "source": [
    "#Top 10 Jobs that has highest number of employees on the basis of agencyid\n",
    "plt.figure(figsize=(10,5))\n",
    "salary_cpy.groupby(['AgencyID'])[' Name'].count().sort_values(ascending=False).head(10).plot.bar()\n",
    "plt.ylabel('No Of Employees')\n",
    "plt.title(\"Top AgencyID's with Highest number of Employees\",fontsize=18)\n",
    "plt.show()"
   ]
  },
  {
   "cell_type": "code",
   "execution_count": 24,
   "id": "77c59a75",
   "metadata": {},
   "outputs": [
    {
     "name": "stdout",
     "output_type": "stream",
     "text": [
      "Use M for Mayor's Office\n",
      "Use F for FIN Admin & Budgets\n",
      "Use C for Council Services\n",
      "Use L for Law Department\n",
      "Use MR for MR Cable & comm\n",
      "Use FD for Fire Department\n",
      "Use CC for Computer controller\n",
      "Use CA for Computer Audits\n",
      "Use HR for Human Resources\n",
      "Use S for States Attormey's Office\n",
      "\n",
      "Enter which job you are interested in? HR\n",
      "Your expected salary is around 62000 dollars\n"
     ]
    }
   ],
   "source": [
    "# A small Application\n",
    "print(\"Use M for Mayor's Office\\nUse F for FIN Admin & Budgets\\nUse C for Council Services\\nUse L for Law Department\\nUse MR for MR Cable & comm\\nUse FD for Fire Department\\nUse CC for Computer controller\\nUse CA for Computer Audits\\nUse HR for Human Resources\\nUse S for States Attormey's Office\\n\")\n",
    "\n",
    "a= input(\"Enter which job you are interested in? \")\n",
    "\n",
    "if (a==\"M\"):\n",
    "    print(\"Your expected salary is around 1 lac dollars\")\n",
    "elif(a==\"F\"):\n",
    "    print(\"Your expected salary is around 75000 dollars\")\n",
    "elif(a==\"C\"):\n",
    "    print(\"Your expected salary is around 72000 dollars\")\n",
    "elif(a==\"L\"):\n",
    "    print(\"Your expected salary is around 70000 dollars\")\n",
    "elif(a==\"MR\"):\n",
    "    print(\"Your expected salary is around 68000 dollars\")\n",
    "elif(a==\"FD\"):\n",
    "    print(\"Your expected salary is around 68000 dollars\")\n",
    "elif(a==\"CC\"):\n",
    "    print(\"Your expected salary is around 65000 dollars\")\n",
    "elif(a==\"CA\"):\n",
    "    print(\"Your expected salary is around 65000 dollars\")\n",
    "elif(a==\"HR\"):\n",
    "    print(\"Your expected salary is around 62000 dollars\")\n",
    "elif(a==\"S\"):\n",
    "    print(\"Your expected salary is around 60000 dollars\")\n",
    "else:\n",
    "    print(\"Invalid input\")"
   ]
  },
  {
   "cell_type": "code",
   "execution_count": null,
   "id": "a198c8b9",
   "metadata": {},
   "outputs": [],
   "source": []
  }
 ],
 "metadata": {
  "kernelspec": {
   "display_name": "Python 3",
   "language": "python",
   "name": "python3"
  },
  "language_info": {
   "codemirror_mode": {
    "name": "ipython",
    "version": 3
   },
   "file_extension": ".py",
   "mimetype": "text/x-python",
   "name": "python",
   "nbconvert_exporter": "python",
   "pygments_lexer": "ipython3",
   "version": "3.8.8"
  }
 },
 "nbformat": 4,
 "nbformat_minor": 5
}
